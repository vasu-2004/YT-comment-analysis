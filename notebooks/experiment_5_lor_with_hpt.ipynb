{
  "nbformat": 4,
  "nbformat_minor": 0,
  "metadata": {
    "colab": {
      "provenance": []
    },
    "kernelspec": {
      "name": "python3",
      "display_name": "Python 3"
    },
    "language_info": {
      "name": "python"
    }
  },
  "cells": [
    {
      "cell_type": "code",
      "execution_count": null,
      "metadata": {
        "colab": {
          "base_uri": "https://localhost:8080/"
        },
        "id": "ks0pGMG6x69T",
        "outputId": "c33a91d3-8071-4093-9e2e-b48756cf80ac"
      },
      "outputs": [
        {
          "output_type": "stream",
          "name": "stdout",
          "text": [
            "Requirement already satisfied: mlflow in /usr/local/lib/python3.10/dist-packages (2.16.2)\n",
            "Requirement already satisfied: boto3 in /usr/local/lib/python3.10/dist-packages (1.35.38)\n",
            "Requirement already satisfied: awscli in /usr/local/lib/python3.10/dist-packages (1.35.4)\n",
            "Requirement already satisfied: optuna in /usr/local/lib/python3.10/dist-packages (4.0.0)\n",
            "Requirement already satisfied: imbalanced-learn in /usr/local/lib/python3.10/dist-packages (0.12.3)\n",
            "Requirement already satisfied: mlflow-skinny==2.16.2 in /usr/local/lib/python3.10/dist-packages (from mlflow) (2.16.2)\n",
            "Requirement already satisfied: Flask<4 in /usr/local/lib/python3.10/dist-packages (from mlflow) (2.2.5)\n",
            "Requirement already satisfied: alembic!=1.10.0,<2 in /usr/local/lib/python3.10/dist-packages (from mlflow) (1.13.3)\n",
            "Requirement already satisfied: docker<8,>=4.0.0 in /usr/local/lib/python3.10/dist-packages (from mlflow) (7.1.0)\n",
            "Requirement already satisfied: graphene<4 in /usr/local/lib/python3.10/dist-packages (from mlflow) (3.3)\n",
            "Requirement already satisfied: markdown<4,>=3.3 in /usr/local/lib/python3.10/dist-packages (from mlflow) (3.7)\n",
            "Requirement already satisfied: matplotlib<4 in /usr/local/lib/python3.10/dist-packages (from mlflow) (3.7.1)\n",
            "Requirement already satisfied: numpy<3 in /usr/local/lib/python3.10/dist-packages (from mlflow) (1.26.4)\n",
            "Requirement already satisfied: pandas<3 in /usr/local/lib/python3.10/dist-packages (from mlflow) (2.1.4)\n",
            "Requirement already satisfied: pyarrow<18,>=4.0.0 in /usr/local/lib/python3.10/dist-packages (from mlflow) (14.0.2)\n",
            "Requirement already satisfied: scikit-learn<2 in /usr/local/lib/python3.10/dist-packages (from mlflow) (1.5.2)\n",
            "Requirement already satisfied: scipy<2 in /usr/local/lib/python3.10/dist-packages (from mlflow) (1.13.1)\n",
            "Requirement already satisfied: sqlalchemy<3,>=1.4.0 in /usr/local/lib/python3.10/dist-packages (from mlflow) (2.0.35)\n",
            "Requirement already satisfied: Jinja2<4,>=2.11 in /usr/local/lib/python3.10/dist-packages (from mlflow) (3.1.4)\n",
            "Requirement already satisfied: gunicorn<24 in /usr/local/lib/python3.10/dist-packages (from mlflow) (23.0.0)\n",
            "Requirement already satisfied: cachetools<6,>=5.0.0 in /usr/local/lib/python3.10/dist-packages (from mlflow-skinny==2.16.2->mlflow) (5.5.0)\n",
            "Requirement already satisfied: click<9,>=7.0 in /usr/local/lib/python3.10/dist-packages (from mlflow-skinny==2.16.2->mlflow) (8.1.7)\n",
            "Requirement already satisfied: cloudpickle<4 in /usr/local/lib/python3.10/dist-packages (from mlflow-skinny==2.16.2->mlflow) (2.2.1)\n",
            "Requirement already satisfied: databricks-sdk<1,>=0.20.0 in /usr/local/lib/python3.10/dist-packages (from mlflow-skinny==2.16.2->mlflow) (0.34.0)\n",
            "Requirement already satisfied: gitpython<4,>=3.1.9 in /usr/local/lib/python3.10/dist-packages (from mlflow-skinny==2.16.2->mlflow) (3.1.43)\n",
            "Requirement already satisfied: importlib-metadata!=4.7.0,<9,>=3.7.0 in /usr/local/lib/python3.10/dist-packages (from mlflow-skinny==2.16.2->mlflow) (8.4.0)\n",
            "Requirement already satisfied: opentelemetry-api<3,>=1.9.0 in /usr/local/lib/python3.10/dist-packages (from mlflow-skinny==2.16.2->mlflow) (1.27.0)\n",
            "Requirement already satisfied: opentelemetry-sdk<3,>=1.9.0 in /usr/local/lib/python3.10/dist-packages (from mlflow-skinny==2.16.2->mlflow) (1.27.0)\n",
            "Requirement already satisfied: packaging<25 in /usr/local/lib/python3.10/dist-packages (from mlflow-skinny==2.16.2->mlflow) (24.1)\n",
            "Requirement already satisfied: protobuf<6,>=3.12.0 in /usr/local/lib/python3.10/dist-packages (from mlflow-skinny==2.16.2->mlflow) (3.20.3)\n",
            "Requirement already satisfied: pyyaml<7,>=5.1 in /usr/local/lib/python3.10/dist-packages (from mlflow-skinny==2.16.2->mlflow) (6.0.2)\n",
            "Requirement already satisfied: requests<3,>=2.17.3 in /usr/local/lib/python3.10/dist-packages (from mlflow-skinny==2.16.2->mlflow) (2.32.3)\n",
            "Requirement already satisfied: sqlparse<1,>=0.4.0 in /usr/local/lib/python3.10/dist-packages (from mlflow-skinny==2.16.2->mlflow) (0.5.1)\n",
            "Requirement already satisfied: botocore<1.36.0,>=1.35.38 in /usr/local/lib/python3.10/dist-packages (from boto3) (1.35.38)\n",
            "Requirement already satisfied: jmespath<2.0.0,>=0.7.1 in /usr/local/lib/python3.10/dist-packages (from boto3) (1.0.1)\n",
            "Requirement already satisfied: s3transfer<0.11.0,>=0.10.0 in /usr/local/lib/python3.10/dist-packages (from boto3) (0.10.3)\n",
            "Requirement already satisfied: docutils<0.17,>=0.10 in /usr/local/lib/python3.10/dist-packages (from awscli) (0.16)\n",
            "Requirement already satisfied: colorama<0.4.7,>=0.2.5 in /usr/local/lib/python3.10/dist-packages (from awscli) (0.4.6)\n",
            "Requirement already satisfied: rsa<4.8,>=3.1.2 in /usr/local/lib/python3.10/dist-packages (from awscli) (4.7.2)\n",
            "Requirement already satisfied: python-dateutil<3.0.0,>=2.1 in /usr/local/lib/python3.10/dist-packages (from botocore<1.36.0,>=1.35.38->boto3) (2.8.2)\n",
            "Requirement already satisfied: urllib3!=2.2.0,<3,>=1.25.4 in /usr/local/lib/python3.10/dist-packages (from botocore<1.36.0,>=1.35.38->boto3) (2.2.3)\n",
            "Requirement already satisfied: colorlog in /usr/local/lib/python3.10/dist-packages (from optuna) (6.8.2)\n",
            "Requirement already satisfied: tqdm in /usr/local/lib/python3.10/dist-packages (from optuna) (4.66.5)\n",
            "Requirement already satisfied: joblib>=1.1.1 in /usr/local/lib/python3.10/dist-packages (from imbalanced-learn) (1.4.2)\n",
            "Requirement already satisfied: threadpoolctl>=2.0.0 in /usr/local/lib/python3.10/dist-packages (from imbalanced-learn) (3.5.0)\n",
            "Requirement already satisfied: Mako in /usr/local/lib/python3.10/dist-packages (from alembic!=1.10.0,<2->mlflow) (1.3.5)\n",
            "Requirement already satisfied: typing-extensions>=4 in /usr/local/lib/python3.10/dist-packages (from alembic!=1.10.0,<2->mlflow) (4.12.2)\n",
            "Requirement already satisfied: Werkzeug>=2.2.2 in /usr/local/lib/python3.10/dist-packages (from Flask<4->mlflow) (3.0.4)\n",
            "Requirement already satisfied: itsdangerous>=2.0 in /usr/local/lib/python3.10/dist-packages (from Flask<4->mlflow) (2.2.0)\n",
            "Requirement already satisfied: graphql-core<3.3,>=3.1 in /usr/local/lib/python3.10/dist-packages (from graphene<4->mlflow) (3.2.4)\n",
            "Requirement already satisfied: graphql-relay<3.3,>=3.1 in /usr/local/lib/python3.10/dist-packages (from graphene<4->mlflow) (3.2.0)\n",
            "Requirement already satisfied: aniso8601<10,>=8 in /usr/local/lib/python3.10/dist-packages (from graphene<4->mlflow) (9.0.1)\n",
            "Requirement already satisfied: MarkupSafe>=2.0 in /usr/local/lib/python3.10/dist-packages (from Jinja2<4,>=2.11->mlflow) (2.1.5)\n",
            "Requirement already satisfied: contourpy>=1.0.1 in /usr/local/lib/python3.10/dist-packages (from matplotlib<4->mlflow) (1.3.0)\n",
            "Requirement already satisfied: cycler>=0.10 in /usr/local/lib/python3.10/dist-packages (from matplotlib<4->mlflow) (0.12.1)\n",
            "Requirement already satisfied: fonttools>=4.22.0 in /usr/local/lib/python3.10/dist-packages (from matplotlib<4->mlflow) (4.53.1)\n",
            "Requirement already satisfied: kiwisolver>=1.0.1 in /usr/local/lib/python3.10/dist-packages (from matplotlib<4->mlflow) (1.4.7)\n",
            "Requirement already satisfied: pillow>=6.2.0 in /usr/local/lib/python3.10/dist-packages (from matplotlib<4->mlflow) (10.4.0)\n",
            "Requirement already satisfied: pyparsing>=2.3.1 in /usr/local/lib/python3.10/dist-packages (from matplotlib<4->mlflow) (3.1.4)\n",
            "Requirement already satisfied: pytz>=2020.1 in /usr/local/lib/python3.10/dist-packages (from pandas<3->mlflow) (2024.2)\n",
            "Requirement already satisfied: tzdata>=2022.1 in /usr/local/lib/python3.10/dist-packages (from pandas<3->mlflow) (2024.1)\n",
            "Requirement already satisfied: pyasn1>=0.1.3 in /usr/local/lib/python3.10/dist-packages (from rsa<4.8,>=3.1.2->awscli) (0.6.1)\n",
            "Requirement already satisfied: greenlet!=0.4.17 in /usr/local/lib/python3.10/dist-packages (from sqlalchemy<3,>=1.4.0->mlflow) (3.1.0)\n",
            "Requirement already satisfied: google-auth~=2.0 in /usr/local/lib/python3.10/dist-packages (from databricks-sdk<1,>=0.20.0->mlflow-skinny==2.16.2->mlflow) (2.27.0)\n",
            "Requirement already satisfied: gitdb<5,>=4.0.1 in /usr/local/lib/python3.10/dist-packages (from gitpython<4,>=3.1.9->mlflow-skinny==2.16.2->mlflow) (4.0.11)\n",
            "Requirement already satisfied: zipp>=0.5 in /usr/local/lib/python3.10/dist-packages (from importlib-metadata!=4.7.0,<9,>=3.7.0->mlflow-skinny==2.16.2->mlflow) (3.20.2)\n",
            "Requirement already satisfied: deprecated>=1.2.6 in /usr/local/lib/python3.10/dist-packages (from opentelemetry-api<3,>=1.9.0->mlflow-skinny==2.16.2->mlflow) (1.2.14)\n",
            "Requirement already satisfied: opentelemetry-semantic-conventions==0.48b0 in /usr/local/lib/python3.10/dist-packages (from opentelemetry-sdk<3,>=1.9.0->mlflow-skinny==2.16.2->mlflow) (0.48b0)\n",
            "Requirement already satisfied: six>=1.5 in /usr/local/lib/python3.10/dist-packages (from python-dateutil<3.0.0,>=2.1->botocore<1.36.0,>=1.35.38->boto3) (1.16.0)\n",
            "Requirement already satisfied: charset-normalizer<4,>=2 in /usr/local/lib/python3.10/dist-packages (from requests<3,>=2.17.3->mlflow-skinny==2.16.2->mlflow) (3.3.2)\n",
            "Requirement already satisfied: idna<4,>=2.5 in /usr/local/lib/python3.10/dist-packages (from requests<3,>=2.17.3->mlflow-skinny==2.16.2->mlflow) (3.10)\n",
            "Requirement already satisfied: certifi>=2017.4.17 in /usr/local/lib/python3.10/dist-packages (from requests<3,>=2.17.3->mlflow-skinny==2.16.2->mlflow) (2024.8.30)\n",
            "Requirement already satisfied: wrapt<2,>=1.10 in /usr/local/lib/python3.10/dist-packages (from deprecated>=1.2.6->opentelemetry-api<3,>=1.9.0->mlflow-skinny==2.16.2->mlflow) (1.16.0)\n",
            "Requirement already satisfied: smmap<6,>=3.0.1 in /usr/local/lib/python3.10/dist-packages (from gitdb<5,>=4.0.1->gitpython<4,>=3.1.9->mlflow-skinny==2.16.2->mlflow) (5.0.1)\n",
            "Requirement already satisfied: pyasn1-modules>=0.2.1 in /usr/local/lib/python3.10/dist-packages (from google-auth~=2.0->databricks-sdk<1,>=0.20.0->mlflow-skinny==2.16.2->mlflow) (0.4.1)\n"
          ]
        }
      ],
      "source": [
        "!pip install mlflow boto3 awscli optuna imbalanced-learn"
      ]
    },
    {
      "cell_type": "code",
      "source": [
        "!aws configure"
      ],
      "metadata": {
        "colab": {
          "base_uri": "https://localhost:8080/"
        },
        "id": "fBQAcf9JyECd",
        "outputId": "15a5aaaa-95cd-4e23-883b-70055c1fea9f"
      },
      "execution_count": null,
      "outputs": [
        {
          "output_type": "stream",
          "name": "stdout",
          "text": [
            "AWS Access Key ID [****************UHPB]: \n",
            "AWS Secret Access Key [****************7v2U]: \n",
            "Default region name [None]: \n",
            "Default output format [None]: \n"
          ]
        }
      ]
    },
    {
      "cell_type": "code",
      "source": [
        "import mlflow\n",
        "# Step 2: Set up the MLflow tracking server\n",
        "mlflow.set_tracking_uri(\"http://ec2-54-196-109-131.compute-1.amazonaws.com:5000/\")"
      ],
      "metadata": {
        "id": "r-7ysUuxyuVs"
      },
      "execution_count": null,
      "outputs": []
    },
    {
      "cell_type": "code",
      "source": [
        "# Set or create an experiment\n",
        "mlflow.set_experiment(\"ML Algos with HP Tuning\")"
      ],
      "metadata": {
        "colab": {
          "base_uri": "https://localhost:8080/"
        },
        "id": "PKDf830by4j8",
        "outputId": "882d3a38-037e-442a-e9d4-24ff5bd736c7"
      },
      "execution_count": null,
      "outputs": [
        {
          "output_type": "execute_result",
          "data": {
            "text/plain": [
              "<Experiment: artifact_location='s3://campusx-mlflow/608990915555109586', creation_time=1728589727081, experiment_id='608990915555109586', last_update_time=1728589727081, lifecycle_stage='active', name='ML Algos with HP Tuning', tags={}>"
            ]
          },
          "metadata": {},
          "execution_count": 10
        }
      ]
    },
    {
      "cell_type": "code",
      "source": [
        "import pandas as pd\n",
        "from sklearn.feature_extraction.text import TfidfVectorizer\n",
        "from sklearn.model_selection import train_test_split\n",
        "from sklearn.linear_model import LogisticRegression\n",
        "from sklearn.metrics import accuracy_score, classification_report\n",
        "from imblearn.over_sampling import SMOTE\n",
        "import mlflow\n",
        "import mlflow.sklearn\n",
        "import optuna\n"
      ],
      "metadata": {
        "id": "5zTFu8-py63X"
      },
      "execution_count": null,
      "outputs": []
    },
    {
      "cell_type": "code",
      "source": [
        "df = pd.read_csv('/content/reddit_preprocessing.csv').dropna()\n",
        "df.shape"
      ],
      "metadata": {
        "colab": {
          "base_uri": "https://localhost:8080/"
        },
        "id": "ApulXm9Yy-m7",
        "outputId": "ea6ec006-f4d6-4aad-9687-f9edef00a686"
      },
      "execution_count": null,
      "outputs": [
        {
          "output_type": "execute_result",
          "data": {
            "text/plain": [
              "(36662, 2)"
            ]
          },
          "metadata": {},
          "execution_count": 12
        }
      ]
    },
    {
      "cell_type": "code",
      "source": [
        "# Step 1: (Optional) Remapping - skipped since not strictly needed for Logistic Regression\n",
        "\n",
        "# Step 2: Remove rows where the target labels (category) are NaN\n",
        "df = df.dropna(subset=['category'])\n",
        "\n",
        "# Step 3: TF-IDF vectorizer setup\n",
        "ngram_range = (1, 3)  # Trigram\n",
        "max_features = 1000  # Set max_features to 1000\n",
        "vectorizer = TfidfVectorizer(ngram_range=ngram_range, max_features=max_features)\n",
        "X = vectorizer.fit_transform(df['clean_comment'])\n",
        "y = df['category']\n",
        "\n",
        "# Step 4: Apply SMOTE to handle class imbalance\n",
        "smote = SMOTE(random_state=42)\n",
        "X_resampled, y_resampled = smote.fit_resample(X, y)\n",
        "\n",
        "# Step 5: Train-test split\n",
        "X_train, X_test, y_train, y_test = train_test_split(X_resampled, y_resampled, test_size=0.2, random_state=42, stratify=y_resampled)\n",
        "\n",
        "# Function to log results in MLflow\n",
        "def log_mlflow(model_name, model, X_train, X_test, y_train, y_test):\n",
        "    with mlflow.start_run():\n",
        "        # Log model type\n",
        "        mlflow.set_tag(\"mlflow.runName\", f\"{model_name}_SMOTE_TFIDF_Trigrams\")\n",
        "        mlflow.set_tag(\"experiment_type\", \"algorithm_comparison\")\n",
        "\n",
        "        # Log algorithm name as a parameter\n",
        "        mlflow.log_param(\"algo_name\", model_name)\n",
        "\n",
        "        # Train model\n",
        "        model.fit(X_train, y_train)\n",
        "        y_pred = model.predict(X_test)\n",
        "\n",
        "        # Log accuracy\n",
        "        accuracy = accuracy_score(y_test, y_pred)\n",
        "        mlflow.log_metric(\"accuracy\", accuracy)\n",
        "\n",
        "        # Log classification report\n",
        "        classification_rep = classification_report(y_test, y_pred, output_dict=True)\n",
        "        for label, metrics in classification_rep.items():\n",
        "            if isinstance(metrics, dict):\n",
        "                for metric, value in metrics.items():\n",
        "                    mlflow.log_metric(f\"{label}_{metric}\", value)\n",
        "\n",
        "        # Log the model\n",
        "        mlflow.sklearn.log_model(model, f\"{model_name}_model\")\n",
        "\n",
        "\n",
        "# Step 6: Optuna objective function for Logistic Regression\n",
        "def objective_logreg(trial):\n",
        "    C = trial.suggest_float('C', 1e-4, 10.0, log=True)\n",
        "    penalty = trial.suggest_categorical('penalty', ['l1', 'l2'])\n",
        "\n",
        "    # LogisticRegression model setup with balanced class weight\n",
        "    model = LogisticRegression(C=C, penalty=penalty, solver='liblinear', random_state=42)\n",
        "    return accuracy_score(y_test, model.fit(X_train, y_train).predict(X_test))\n",
        "\n",
        "\n",
        "# Step 7: Run Optuna for Logistic Regression, log the best model only\n",
        "def run_optuna_experiment():\n",
        "    study = optuna.create_study(direction=\"maximize\")\n",
        "    study.optimize(objective_logreg, n_trials=30)\n",
        "\n",
        "    # Get the best parameters and log only the best model\n",
        "    best_params = study.best_params\n",
        "    best_model = LogisticRegression(C=best_params['C'], penalty=best_params['penalty'], solver='liblinear', random_state=42)\n",
        "\n",
        "    # Log the best model with MLflow, passing the algo_name as \"LogisticRegression\"\n",
        "    log_mlflow(\"LogisticRegression\", best_model, X_train, X_test, y_train, y_test)\n",
        "\n",
        "# Run the experiment for Logistic Regression\n",
        "run_optuna_experiment()\n"
      ],
      "metadata": {
        "id": "frq0yf4CzXXv",
        "colab": {
          "base_uri": "https://localhost:8080/"
        },
        "outputId": "faa54a1b-733a-4d6d-b3bd-ef35cdd6ad61"
      },
      "execution_count": null,
      "outputs": [
        {
          "output_type": "stream",
          "name": "stderr",
          "text": [
            "[I 2024-10-11 04:21:59,570] A new study created in memory with name: no-name-f8428230-2c76-41bd-83e9-593486875acc\n",
            "[I 2024-10-11 04:22:00,431] Trial 0 finished with value: 0.7746776580004228 and parameters: {'C': 9.4566524398181, 'penalty': 'l2'}. Best is trial 0 with value: 0.7746776580004228.\n",
            "[I 2024-10-11 04:22:01,045] Trial 1 finished with value: 0.7742549143944197 and parameters: {'C': 7.219097929737698, 'penalty': 'l2'}. Best is trial 0 with value: 0.7746776580004228.\n",
            "[I 2024-10-11 04:22:01,303] Trial 2 finished with value: 0.7792221517649546 and parameters: {'C': 0.5670204003193772, 'penalty': 'l1'}. Best is trial 2 with value: 0.7792221517649546.\n",
            "[I 2024-10-11 04:22:01,784] Trial 3 finished with value: 0.7688649334178821 and parameters: {'C': 2.5002578039429113, 'penalty': 'l2'}. Best is trial 2 with value: 0.7792221517649546.\n",
            "[I 2024-10-11 04:22:01,944] Trial 4 finished with value: 0.6568378778270979 and parameters: {'C': 0.0038474664198131212, 'penalty': 'l2'}. Best is trial 2 with value: 0.7792221517649546.\n",
            "[I 2024-10-11 04:22:02,086] Trial 5 finished with value: 0.6534559289790742 and parameters: {'C': 0.002985203970737366, 'penalty': 'l2'}. Best is trial 2 with value: 0.7792221517649546.\n",
            "[I 2024-10-11 04:22:02,199] Trial 6 finished with value: 0.6116043119847813 and parameters: {'C': 0.021807214585433887, 'penalty': 'l1'}. Best is trial 2 with value: 0.7792221517649546.\n",
            "[I 2024-10-11 04:22:02,494] Trial 7 finished with value: 0.7440287465652082 and parameters: {'C': 0.16634826294886101, 'penalty': 'l2'}. Best is trial 2 with value: 0.7792221517649546.\n",
            "[I 2024-10-11 04:22:02,808] Trial 8 finished with value: 0.7547030226167829 and parameters: {'C': 0.31784259175506313, 'penalty': 'l2'}. Best is trial 2 with value: 0.7792221517649546.\n",
            "[I 2024-10-11 04:22:02,913] Trial 9 finished with value: 0.6472204607905305 and parameters: {'C': 0.0008551742582732891, 'penalty': 'l2'}. Best is trial 2 with value: 0.7792221517649546.\n",
            "[I 2024-10-11 04:22:02,967] Trial 10 finished with value: 0.3333333333333333 and parameters: {'C': 0.00013152333836873218, 'penalty': 'l1'}. Best is trial 2 with value: 0.7792221517649546.\n",
            "[I 2024-10-11 04:22:03,346] Trial 11 finished with value: 0.7786937222574508 and parameters: {'C': 1.3569223411559195, 'penalty': 'l1'}. Best is trial 2 with value: 0.7792221517649546.\n",
            "[I 2024-10-11 04:22:03,721] Trial 12 finished with value: 0.7795392094694568 and parameters: {'C': 0.6742713859029421, 'penalty': 'l1'}. Best is trial 12 with value: 0.7795392094694568.\n",
            "[I 2024-10-11 04:22:03,956] Trial 13 finished with value: 0.7496300993447474 and parameters: {'C': 0.12679698657926575, 'penalty': 'l1'}. Best is trial 12 with value: 0.7795392094694568.\n",
            "[I 2024-10-11 04:22:04,351] Trial 14 finished with value: 0.779433523567956 and parameters: {'C': 1.1471953941102342, 'penalty': 'l1'}. Best is trial 12 with value: 0.7795392094694568.\n",
            "[I 2024-10-11 04:22:04,561] Trial 15 finished with value: 0.6905516804058338 and parameters: {'C': 0.04952447865668404, 'penalty': 'l1'}. Best is trial 12 with value: 0.7795392094694568.\n",
            "[I 2024-10-11 04:22:04,959] Trial 16 finished with value: 0.7786937222574508 and parameters: {'C': 1.2892052810828865, 'penalty': 'l1'}. Best is trial 12 with value: 0.7795392094694568.\n",
            "[I 2024-10-11 04:22:05,163] Trial 17 finished with value: 0.6648700063411541 and parameters: {'C': 0.037557782261945435, 'penalty': 'l1'}. Best is trial 12 with value: 0.7795392094694568.\n",
            "[I 2024-10-11 04:22:05,610] Trial 18 finished with value: 0.7797505812724582 and parameters: {'C': 2.1676493865136504, 'penalty': 'l1'}. Best is trial 18 with value: 0.7797505812724582.\n",
            "[I 2024-10-11 04:22:06,080] Trial 19 finished with value: 0.779433523567956 and parameters: {'C': 3.848892240069096, 'penalty': 'l1'}. Best is trial 18 with value: 0.7797505812724582.\n",
            "[I 2024-10-11 04:22:06,434] Trial 20 finished with value: 0.7795392094694568 and parameters: {'C': 0.5183548159137074, 'penalty': 'l1'}. Best is trial 18 with value: 0.7797505812724582.\n",
            "[I 2024-10-11 04:22:06,801] Trial 21 finished with value: 0.777848235045445 and parameters: {'C': 0.4394998799220976, 'penalty': 'l1'}. Best is trial 18 with value: 0.7797505812724582.\n",
            "[I 2024-10-11 04:22:06,960] Trial 22 finished with value: 0.7412809131261889 and parameters: {'C': 0.10300343550696266, 'penalty': 'l1'}. Best is trial 18 with value: 0.7797505812724582.\n",
            "[I 2024-10-11 04:22:07,268] Trial 23 finished with value: 0.7793278376664553 and parameters: {'C': 3.1178410808993284, 'penalty': 'l1'}. Best is trial 18 with value: 0.7797505812724582.\n",
            "[I 2024-10-11 04:22:07,507] Trial 24 finished with value: 0.7792221517649546 and parameters: {'C': 0.5569137398166724, 'penalty': 'l1'}. Best is trial 18 with value: 0.7797505812724582.\n",
            "[I 2024-10-11 04:22:07,629] Trial 25 finished with value: 0.5837032339885859 and parameters: {'C': 0.016280552338120143, 'penalty': 'l1'}. Best is trial 18 with value: 0.7797505812724582.\n",
            "[I 2024-10-11 04:22:07,820] Trial 26 finished with value: 0.7636863242443458 and parameters: {'C': 0.1999475100935132, 'penalty': 'l1'}. Best is trial 18 with value: 0.7797505812724582.\n",
            "[I 2024-10-11 04:22:08,086] Trial 27 finished with value: 0.7795392094694568 and parameters: {'C': 0.8324641896007635, 'penalty': 'l1'}. Best is trial 18 with value: 0.7797505812724582.\n",
            "[I 2024-10-11 04:22:08,379] Trial 28 finished with value: 0.7797505812724582 and parameters: {'C': 2.163577649712864, 'penalty': 'l1'}. Best is trial 18 with value: 0.7797505812724582.\n",
            "[I 2024-10-11 04:22:08,696] Trial 29 finished with value: 0.7803846966814627 and parameters: {'C': 6.05942848870507, 'penalty': 'l1'}. Best is trial 29 with value: 0.7803846966814627.\n",
            "2024/10/11 04:22:24 WARNING mlflow.models.model: Model logged without a signature and input example. Please set `input_example` parameter when logging the model to auto infer the model signature.\n",
            "2024/10/11 04:22:28 INFO mlflow.tracking._tracking_service.client: 🏃 View run LogisticRegression_SMOTE_TFIDF_Trigrams at: http://ec2-54-196-109-131.compute-1.amazonaws.com:5000/#/experiments/608990915555109586/runs/412dcc6bee23499f83c021de9149e7f8.\n",
            "2024/10/11 04:22:28 INFO mlflow.tracking._tracking_service.client: 🧪 View experiment at: http://ec2-54-196-109-131.compute-1.amazonaws.com:5000/#/experiments/608990915555109586.\n"
          ]
        }
      ]
    },
    {
      "cell_type": "code",
      "source": [],
      "metadata": {
        "id": "bK55busCz2z5"
      },
      "execution_count": null,
      "outputs": []
    }
  ]
}